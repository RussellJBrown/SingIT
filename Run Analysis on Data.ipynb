{
 "cells": [
  {
   "cell_type": "code",
   "execution_count": null,
   "metadata": {},
   "outputs": [],
   "source": [
    "#This method is the main method\n",
    "#For training the dataset.\n",
    "import sys\n",
    "import os\n",
    "from pydub import AudioSegment"
   ]
  },
  {
   "cell_type": "code",
   "execution_count": null,
   "metadata": {},
   "outputs": [],
   "source": [
    "def betterVocalExtract(song,language):\n",
    "    song = '\"'+song+'\"'\n",
    "    command = \"spleeter separate -i \"+ song + \" -p spleeter:2stems -o output\"+language\n",
    "    print(\"Start Command\")\n",
    "    os.system(command)\n",
    "    print(\"Finished Command\")"
   ]
  },
  {
   "cell_type": "code",
   "execution_count": null,
   "metadata": {},
   "outputs": [],
   "source": [
    "def libroExtract(inputSong):\n",
    "    name = os.path.splitext(inputSong)[0]\n",
    "    extension = os.path.splitext(inputSong)[1]\n",
    "    outSong = name + \"Out\" + extension\n",
    "    outSong = outSong.replace(\"(\",\"\")\n",
    "    outSong = outSong.replace(\")\",\"\")\n",
    "    outSong = outSong.replace(\"'\",\"\")\n",
    "    outSong = outSong.replace('\"','')\n",
    "    outSong = outSong.replace(\" \",'')\n",
    "    y, sr = librosa.load(inputSong,offset=35.0,duration=10)\n",
    "    librosa.output.write_wav(outSong,y,sr)\n",
    "    return outSong"
   ]
  },
  {
   "cell_type": "code",
   "execution_count": null,
   "metadata": {},
   "outputs": [],
   "source": [
    "def readInWav(local, wavFile):\n",
    "        wavFile = local+wavFile\n",
    "        outFile=libroExtract(wavFile)\n",
    "        return outFile"
   ]
  },
  {
   "cell_type": "code",
   "execution_count": null,
   "metadata": {},
   "outputs": [],
   "source": [
    "locationEnglish = \"/media/russell/775C-44EC/English\"\n",
    "dirEnglish =  os.listdir(locationEnglish)\n",
    "count = 0\n",
    "for i in range(0,len(dirEnglish)):\n",
    "    englishSong = dirEnglish[i]\n",
    "    name, ext = os.path.splitext(englishSong)\n",
    "    if(ext=='.wav'):\n",
    "            count +=1\n",
    "            print(\"Song Number: \")\n",
    "            print(count)\n",
    "            output = readInWav(locationEnglish+\"/\",englishSong)\n",
    "            betterVocalExtract(output,\"English\")"
   ]
  },
  {
   "cell_type": "code",
   "execution_count": null,
   "metadata": {},
   "outputs": [],
   "source": [
    "locationFrench = \"/media/russell/775C-44EC/French\"\n",
    "dirFrench = os.listdir(locationFrench)\n",
    "count = 0\n",
    "for l in range(0,len(dirFrench)):\n",
    "        frenchSong = dirFrench[l]\n",
    "        name, ext = os.path.splitext(frenchSong)\n",
    "        if(ext=='.wav'):\n",
    "            count += 1\n",
    "            print(\"Song Number: \")\n",
    "            print(count)\n",
    "            output = readInWav(locationFrench+\"/\",frenchSong)\n",
    "            betterVocalExtract(output,\"French\")"
   ]
  },
  {
   "cell_type": "code",
   "execution_count": null,
   "metadata": {},
   "outputs": [],
   "source": [
    "locationGerman = \"/media/russell/775C-44EC/German\"\n",
    "dirGerman =   os.listdir(locationGerman)\n",
    "count = 0\n",
    "for j in range(0,len(dirGerman)):\n",
    "            germanSong = dirGerman[j]\n",
    "            if(ext=='.wav'):\n",
    "                count+=1\n",
    "                print(\"Song Number: \")\n",
    "                print(count)\n",
    "                output = readInWav(locationGerman+\"/\",germanSong)\n",
    "                betterVocalExtract(output,\"German\")"
   ]
  },
  {
   "cell_type": "code",
   "execution_count": null,
   "metadata": {},
   "outputs": [],
   "source": [
    "locationJapanese = \"/media/russell/775C-44EC/Japanese\"\n",
    "dirJapanese = os.listdir(locationJapanese)\n",
    "count=-\n",
    "for k in range(0,len(dirJapanese)):\n",
    "            japaneseSong = dirJapanese[k]\n",
    "            name, ext = os.path.splitext(japaneseSong)\n",
    "            if(ext=='.wav'):\n",
    "                count+=1\n",
    "                print(\"Song Number:\")\n",
    "                print(count)\n",
    "                output = readInWav(locationJapanese+\"/\",japaneseSong)\n",
    "                betterVocalExtract(output,\"Japanese\")"
   ]
  }
 ],
 "metadata": {
  "kernelspec": {
   "display_name": "Python 3",
   "language": "python",
   "name": "python3"
  },
  "language_info": {
   "codemirror_mode": {
    "name": "ipython",
    "version": 3
   },
   "file_extension": ".py",
   "mimetype": "text/x-python",
   "name": "python",
   "nbconvert_exporter": "python",
   "pygments_lexer": "ipython3",
   "version": "3.7.3"
  }
 },
 "nbformat": 4,
 "nbformat_minor": 2
}
