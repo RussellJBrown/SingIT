{
 "cells": [
  {
   "cell_type": "code",
   "execution_count": 1,
   "metadata": {},
   "outputs": [],
   "source": [
    "import matplotlib.pyplot as plt\n",
    "import numpy as np\n",
    "import scipy.signal as signal \n",
    "from scipy.interpolate import interp1d \n",
    "import IPython.display as ipd\n",
    "import scipy.io.wavfile as wav\n",
    "\n",
    "import librosa\n",
    "import sklearn\n",
    "import pyaudio\n",
    "import wave\n",
    "\n",
    "target = np.append([\"English\"]*90,[\"French\"]*90)\n",
    "target = np.append(target,[\"Japanese\"]*90)\n",
    "target = np.append(target,[\"German\"]*90)\n",
    "\n",
    "EnglishPks = np.array([[0]*13]*90)\n",
    "FrenchPks = np.array([[0]*13]*90)\n",
    "JapanesePks = np.array([[0]*13]*90)\n",
    "GermanPks = np.array([[0]*13]*90)\n",
    "\n",
    "with open(\"EnglishPeaks30.txt\",'r') as file:\n",
    "    data = file.read().replace('\\n', ' ')\n",
    "    data = data.replace('  ',' ')\n",
    "    data = data.split()\n",
    "    for i in np.arange(90):\n",
    "        for j in np.arange(13):\n",
    "            EnglishPks[i][j] = int(data[i*13+j])\n",
    "with open(\"FrenchPeaks30.txt\",'r') as file:\n",
    "    data = file.read().replace('\\n', ' ')\n",
    "    data = data.replace('  ',' ')\n",
    "    data = data.split()\n",
    "    for i in np.arange(90):\n",
    "        for j in np.arange(13):\n",
    "            FrenchPks[i][j] = int(data[i*13+j])\n",
    "with open(\"JapanesePeaks30.txt\",'r') as file:\n",
    "    data = file.read().replace('\\n', ' ')\n",
    "    data = data.replace('  ',' ')\n",
    "    data = data.split()\n",
    "    for i in np.arange(90):\n",
    "        for j in np.arange(13):\n",
    "            JapanesePks[i][j] = int(data[i*13+j])\n",
    "with open(\"GermanPeaks30.txt\",'r') as file:\n",
    "    data = file.read().replace('\\n', ' ')\n",
    "    data = data.replace('  ',' ')\n",
    "    data = data.split()\n",
    "    for i in np.arange(90):\n",
    "        for j in np.arange(13):\n",
    "            GermanPks[i][j] = int(data[i*13+j])\n",
    "\n",
    "'''\n",
    "longtarget = np.append([\"English\"]*900,[\"French\"]*900)\n",
    "longtarget = np.append(longtarget,[\"Japanese\"]*900)\n",
    "longtarget = np.append(longtarget,[\"German\"]*900)\n",
    "\n",
    "allNormalMean = np.append(np.append(normalEnglishMean,normalFrenchMean),np.append(normalJapaneseMean,normalGermanMean))\n",
    "allNormalStd = np.append(np.append(normalEnglishStd,normalFrenchStd),np.append(normalJapaneseStd,normalGermanStd))\n",
    "allVeMean = np.append(np.append(veEnglishMean,veFrenchMean),np.append(veJapaneseMean,veGermanMean))\n",
    "allVeStd = np.append(np.append(veEnglishStd,veFrenchStd),np.append(veJapaneseStd,veGermanStd))\n",
    "'''\n",
    "\n",
    "allPks = np.append(np.append(EnglishPks,FrenchPks,axis=0),np.append(JapanesePks,GermanPks,axis=0),axis=0)"
   ]
  },
  {
   "cell_type": "code",
   "execution_count": 2,
   "metadata": {},
   "outputs": [],
   "source": [
    "def readInLiveAudio():\n",
    "    CHUNK = 1024\n",
    "    FORMAT = pyaudio.paInt16\n",
    "    CHANNELS = 2\n",
    "    RATE = 44100\n",
    "    RECORD_SECONDS = 30\n",
    "    WAVE_OUTPUT_FILENAME = \"output.wav\"\n",
    "    p = pyaudio.PyAudio()\n",
    "    stream = p.open(format=FORMAT,\n",
    "                    channels=CHANNELS,\n",
    "                    rate=RATE,\n",
    "                    input=True,\n",
    "                    frames_per_buffer=CHUNK)\n",
    "    print(\"* recording\")\n",
    "    frames = []\n",
    "    for i in range(0, int(RATE / CHUNK * RECORD_SECONDS)):\n",
    "        data = stream.read(CHUNK)\n",
    "        frames.append(data)\n",
    "    print(\"* done recording\")\n",
    "    stream.stop_stream()\n",
    "    stream.close()\n",
    "    p.terminate()\n",
    "    wf = wave.open(WAVE_OUTPUT_FILENAME, 'wb')\n",
    "    wf.setnchannels(CHANNELS)\n",
    "    wf.setsampwidth(p.get_sample_size(FORMAT))\n",
    "    wf.setframerate(RATE)\n",
    "    wf.writeframes(b''.join(frames))\n",
    "    wf.close()"
   ]
  },
  {
   "cell_type": "code",
   "execution_count": 6,
   "metadata": {},
   "outputs": [],
   "source": [
    "def betterVocalExtract(song):\n",
    "    #song = '\"'+song+'\"'\n",
    "    #command = \"spleeter separate -i \"+ song + \" -p spleeter:2stems -o output\"\n",
    "    print(\"Start Command\")\n",
    "    !spleeter separate -i output.wav -p spleeter:2stems -o output\n",
    "    print(\"Finished Command\")"
   ]
  },
  {
   "cell_type": "code",
   "execution_count": 7,
   "metadata": {},
   "outputs": [],
   "source": [
    "def bandComparison(song):\n",
    "    n = 10\n",
    "    filtertrain = [[0.0]]*13\n",
    "    filtertrain[0] = signal.butter(n, [3000,4000], 'bandpass', fs=44100, output='sos')\n",
    "    filtertrain[1] = signal.butter(n, [4000,5000], 'bandpass', fs=44100, output='sos')\n",
    "    filtertrain[2] = signal.butter(n, [5000,6000], 'bandpass', fs=44100, output='sos')\n",
    "    filtertrain[3] = signal.butter(n, [6000,7000], 'bandpass', fs=44100, output='sos')\n",
    "    filtertrain[4] = signal.butter(n, [7000,8000], 'bandpass', fs=44100, output='sos')\n",
    "    filtertrain[5] = signal.butter(n, [8000,9000], 'bandpass', fs=44100, output='sos')\n",
    "    filtertrain[6] = signal.butter(n, [9000,10000], 'bandpass', fs=44100, output='sos')\n",
    "    filtertrain[7] = signal.butter(n, [10000,11000], 'bandpass', fs=44100, output='sos')\n",
    "    filtertrain[8] = signal.butter(n, [11000,12000], 'bandpass', fs=44100, output='sos')\n",
    "    filtertrain[9] = signal.butter(n, [12000,13000], 'bandpass', fs=44100, output='sos')\n",
    "    filtertrain[10] = signal.butter(n, [13000,14000], 'bandpass', fs=44100, output='sos')\n",
    "    filtertrain[11] = signal.butter(n, [14000,15000], 'bandpass', fs=44100, output='sos')\n",
    "    filtertrain[12] = signal.butter(n, 15000, 'highpass', fs=44100, output='sos')\n",
    "    heightVar = 0.375\n",
    "    distanceVar = 4000\n",
    "    occurenceMatrix = [[0]*len(filtertrain)]*1\n",
    "    for i in range(0,1):\n",
    "        y, sr = librosa.load(song)\n",
    "        for j in np.arange(len(filtertrain)):\n",
    "            filtered = signal.sosfilt(filtertrain[j], y)\n",
    "            ypeaks = signal.find_peaks(filtered, height=np.max(filtered)*heightVar, distance=distanceVar)\n",
    "            occurenceMatrix[i][j] = len(ypeaks[0])                \n",
    "    return occurenceMatrix  "
   ]
  },
  {
   "cell_type": "code",
   "execution_count": 8,
   "metadata": {},
   "outputs": [
    {
     "name": "stdout",
     "output_type": "stream",
     "text": [
      "[[25 17 20 ...  5  8  8]\n",
      " [13  4 13 ...  7  7  5]\n",
      " [37 45 28 ...  6  5  6]\n",
      " ...\n",
      " [ 9  8  4 ...  5  6  8]\n",
      " [ 4  3  3 ...  1  2  1]\n",
      " [11 17  6 ...  5  7 10]]\n",
      "360\n"
     ]
    }
   ],
   "source": [
    "print(allPks)\n",
    "print(len(allPks))"
   ]
  },
  {
   "cell_type": "code",
   "execution_count": 9,
   "metadata": {},
   "outputs": [
    {
     "data": {
      "text/plain": [
       "<matplotlib.collections.PathCollection at 0x7f155e93dcf8>"
      ]
     },
     "execution_count": 9,
     "metadata": {},
     "output_type": "execute_result"
    },
    {
     "data": {
      "image/png": "[encoded data removed]",
      "text/plain": [
       "<Figure size 432x288 with 1 Axes>"
      ]
     },
     "metadata": {
      "needs_background": "light"
     },
     "output_type": "display_data"
    }
   ],
   "source": [
    "English13 = [0]*90\n",
    "French13 = [0]*90\n",
    "Japanese13 = [0]*90\n",
    "German13 = [0]*90\n",
    "\n",
    "bandnum = 13\n",
    "\n",
    "for i in np.arange(90):\n",
    "    English13[i] = EnglishPks[i][bandnum-1]\n",
    "    French13[i] = FrenchPks[i][bandnum-1]\n",
    "    Japanese13[i] = JapanesePks[i][bandnum-1]\n",
    "    German13[i] = GermanPks[i][bandnum-1]\n",
    "\n",
    "English13 = np.sort(English13)\n",
    "French13 = np.sort(French13)\n",
    "Japanese13 = np.sort(Japanese13)\n",
    "German13 = np.sort(German13)\n",
    "\n",
    "EnglishTarget = [4]*90\n",
    "FrenchTarget = [3]*90\n",
    "JapaneseTarget = [2]*90\n",
    "GermanTarget = [1]*90\n",
    "yaxis90 = np.arange(90)+1\n",
    "\n",
    "plt.scatter(English13,yaxis90)\n",
    "plt.scatter(French13,yaxis90)\n",
    "plt.scatter(Japanese13,yaxis90)\n",
    "plt.scatter(German13,yaxis90)"
   ]
  },
  {
   "cell_type": "code",
   "execution_count": 10,
   "metadata": {},
   "outputs": [],
   "source": [
    "bands = np.array([[[0]*90]*4]*13)\n",
    "\n",
    "for i in np.arange(13):\n",
    "    for j in np.arange(90):\n",
    "        bands[i][0][j] = EnglishPks[j][i]\n",
    "        bands[i][1][j] = FrenchPks[j][i]\n",
    "        bands[i][2][j] = JapanesePks[j][i]\n",
    "        bands[i][3][j] = GermanPks[j][i]\n",
    "    for j in np.arange(4):\n",
    "        bands[i][j] = np.sort(bands[i][j])\n",
    "    \n",
    "def findPercentile(bnum, lnum, index):\n",
    "    locs = np.where(bands[bnum][lnum]==index)[0]\n",
    "    if len(locs) > 0:\n",
    "        return int(np.max(locs)+1)\n",
    "    elif index == 0:\n",
    "        return 0\n",
    "    else:\n",
    "        return findPercentile(bnum,lnum,index-1)\n",
    "\n",
    "def predictor(arr, printStuff, printMatrix, printPredictions):\n",
    "    if len(arr) < 13:\n",
    "        print(\"Incompatible array size.\")\n",
    "    else:\n",
    "        bmatrix = np.array([[0]*4]*13)\n",
    "        for i in np.arange(13):\n",
    "            for j in np.arange(4):\n",
    "                outof90 = int(findPercentile(i, j, arr[i]))\n",
    "                #print(type(outof90))\n",
    "                bmatrix[i][j] = abs(outof90 - int(90 - outof90))\n",
    "    bmatrix = bmatrix//2\n",
    "    predictions = np.array([0]*4)\n",
    "    for i in np.arange(13):\n",
    "        for j in np.arange(4):\n",
    "            predictions[j] = predictions[j] + bmatrix[i][j]\n",
    "    if printStuff > 0:\n",
    "        print(\"This was predicted as:\")\n",
    "        if predictions[0] == np.min(predictions):\n",
    "            print(\"\\tEnglish\")\n",
    "        if predictions[1] == np.min(predictions):\n",
    "            print(\"\\tFrench\")\n",
    "        if predictions[2] == np.min(predictions):\n",
    "            print(\"\\tJapanese\")\n",
    "        if predictions[3] == np.min(predictions):\n",
    "            print(\"\\tGerman\")\n",
    "    if printMatrix > 0:\n",
    "        print(bmatrix)\n",
    "    if printPredictions > 0:\n",
    "        print(predictions)\n",
    "    if predictions[0] == np.min(predictions):\n",
    "            return 0\n",
    "    elif predictions[1] == np.min(predictions):\n",
    "            return 1\n",
    "    elif predictions[2] == np.min(predictions):\n",
    "            return 2\n",
    "    elif predictions[3] == np.min(predictions):\n",
    "            return 3"
   ]
  },
  {
   "cell_type": "code",
   "execution_count": 11,
   "metadata": {},
   "outputs": [
    {
     "name": "stdout",
     "output_type": "stream",
     "text": [
      "[[32  8 21 29]\n",
      " [27 15 17 31]\n",
      " [23  3 46 18]\n",
      " [17  8 14 51]]\n"
     ]
    },
    {
     "data": {
      "text/plain": [
       "<matplotlib.image.AxesImage at 0x7f155aa0ada0>"
      ]
     },
     "execution_count": 11,
     "metadata": {},
     "output_type": "execute_result"
    },
    {
     "data": {
      "image/png": "[encoded data removed]",
      "text/plain": [
       "<Figure size 288x288 with 1 Axes>"
      ]
     },
     "metadata": {
      "needs_background": "light"
     },
     "output_type": "display_data"
    }
   ],
   "source": [
    "finalMatrix = np.array([[0]*4]*4)\n",
    "\n",
    "for i in np.arange(90):\n",
    "    a = predictor(EnglishPks[i],0,0,0)\n",
    "    finalMatrix[0][a] = finalMatrix[0][a] + 1\n",
    "    a = predictor(FrenchPks[i],0,0,0)\n",
    "    finalMatrix[1][a] = finalMatrix[1][a] + 1\n",
    "    a = predictor(JapanesePks[i],0,0,0)\n",
    "    finalMatrix[2][a] = finalMatrix[2][a] + 1\n",
    "    a = predictor(GermanPks[i],0,0,0)\n",
    "    finalMatrix[3][a] = finalMatrix[3][a] + 1\n",
    "    \n",
    "print(finalMatrix)\n",
    "\n",
    "plt.matshow(finalMatrix)"
   ]
  },
  {
   "cell_type": "code",
   "execution_count": 23,
   "metadata": {},
   "outputs": [
    {
     "name": "stdout",
     "output_type": "stream",
     "text": [
      "\n",
      "This was predicted as:\n",
      "\tFrench\n",
      "[194 175 250 190]\n"
     ]
    },
    {
     "data": {
      "text/plain": [
       "<matplotlib.collections.PathCollection at 0x7f155869c860>"
      ]
     },
     "execution_count": 23,
     "metadata": {},
     "output_type": "execute_result"
    },
    {
     "data": {
      "image/png": "[encoded data removed]",
      "text/plain": [
       "<Figure size 432x288 with 1 Axes>"
      ]
     },
     "metadata": {
      "needs_background": "light"
     },
     "output_type": "display_data"
    }
   ],
   "source": [
    "EnglishSums = np.array([2531, 1894, 1942, 1816, 1638, 1510, 1211, 1050, 1069, 1110, 1017, 1100, 1420])/90\n",
    "FrenchSums = np.array([2233, 1830, 2065, 1753, 1698, 1364, 1150, 1130, 1104, 1022, 1131, 1199, 1494])/90\n",
    "GermanSums = np.array([2318, 1899, 1898, 1693, 1587, 1395, 1265, 1312, 1359, 1464, 1565, 1628, 2200])/90\n",
    "JapaneseSums = np.array([2546, 2021, 1838, 1886, 2132, 1930, 1454, 1056, 866, 815, 864, 897, 1163])/90\n",
    "xaxis13 = np.arange(13)+1\n",
    "\n",
    "\n",
    "\n",
    "\n",
    "#readInLiveAudio()\n",
    "#betterVocalExtract('output.wav')\n",
    "#occurenceMatrix = bandComparison(\"/home/russell/SingIT/output/('output', '.wav')/vocals.wav\")\n",
    "#inputarr = occurenceMatrix[0]\n",
    "print()\n",
    "\n",
    "# inputarr is where you put the numbers you want to test for a single song.\n",
    "inputarr = np.array([13, 15, 13, 24, 15, 11, 10, 7, 11, 6, 13, 14, 25])\n",
    "predictor(inputarr,1,0,1)\n",
    "plt.scatter(xaxis13,EnglishSums) # Blue\n",
    "plt.scatter(xaxis13,FrenchSums) # Orange\n",
    "plt.scatter(xaxis13,JapaneseSums) # Green\n",
    "plt.scatter(xaxis13,GermanSums) # Red\n",
    "plt.scatter(xaxis13,inputarr) # Purple\n",
    "#plt.figure()\n",
    "#plt.scatter(xaxis13,EnglishSums)\n",
    "#plt.scatter(xaxis13,FrenchSums)\n",
    "#plt.figure()\n",
    "#plt.scatter(xaxis13,EnglishSums)\n",
    "#plt.scatter(xaxis13,JapaneseSums)"
   ]
  },
  {
   "cell_type": "code",
   "execution_count": null,
   "metadata": {},
   "outputs": [],
   "source": [
    "# EVERYTHING BEYOND THIS POINT IS GARBAGE"
   ]
  },
  {
   "cell_type": "code",
   "execution_count": 42,
   "metadata": {},
   "outputs": [
    {
     "name": "stdout",
     "output_type": "stream",
     "text": [
      "Band 1: French, 167.09265175718846% distance.\n",
      "Band 2: French, 298.4293193717275% distance.\n",
      "Band 3: Japanese, 492.511013215859% distance.\n",
      "Band 4: German, 597.4093264248701% distance.\n",
      "Band 5: German, 159.08256880733938% distance.\n",
      "Band 6: French, 2.473498233215539% distance.\n",
      "Band 7: French, 289.47368421052647% distance.\n",
      "Band 8: German, 220.61068702290078% distance.\n",
      "Band 9: English, 16.02434077079108% distance.\n",
      "Band 10: German, 79.5069337442219% distance.\n",
      "Band 11: French, 7.2753209700427925% distance.\n",
      "Band 12: German, 35.84131326949385% distance.\n",
      "Band 13: Japanese, 34.040501446480235% distance.\n"
     ]
    }
   ],
   "source": [
    "marginarr = [0.0]*13\n",
    "for i in np.arange(13):\n",
    "    vals = [EnglishSums[i],FrenchSums[i],JapaneseSums[i],GermanSums[i]]\n",
    "    marginarr[i] = np.max(vals) - np.min(vals)\n",
    "#print(marginarr)\n",
    "    \n",
    "inputarr = np.array([19, 14, 8, 6, 8, 15, 3, 21, 11, 22, 12, 21, 9])\n",
    "compmatrix = np.array([[0.0]*13]*4)\n",
    "\n",
    "for i in np.arange(13):\n",
    "    compmatrix[0][i] = abs(inputarr[i] - EnglishSums[i])\n",
    "    compmatrix[1][i] = abs(inputarr[i] - FrenchSums[i])\n",
    "    compmatrix[2][i] = abs(inputarr[i] - JapaneseSums[i])\n",
    "    compmatrix[3][i] = abs(inputarr[i] - GermanSums[i])\n",
    "#print(compmatrix)\n",
    "\n",
    "for i in np.arange(13):\n",
    "    vals = [compmatrix[0][i],compmatrix[1][i],compmatrix[2][i],compmatrix[3][i]]\n",
    "    if np.min(vals) == compmatrix[0][i]:\n",
    "        print(\"Band \"+str(i+1)+\": \"+\"English, \"+str(100*(compmatrix[0][i]/marginarr[i]))+\"% distance.\")\n",
    "    elif np.min(vals) == compmatrix[1][i]:\n",
    "        print(\"Band \"+str(i+1)+\": \"+\"French, \"+str(100*(compmatrix[1][i]/marginarr[i]))+\"% distance.\")\n",
    "    elif np.min(vals) == compmatrix[2][i]:\n",
    "        print(\"Band \"+str(i+1)+\": \"+\"Japanese, \"+str(100*(compmatrix[2][i]/marginarr[i]))+\"% distance.\")\n",
    "    else:\n",
    "        print(\"Band \"+str(i+1)+\": \"+\"German, \"+str(100*(compmatrix[3][i]/marginarr[i]))+\"% distance.\")"
   ]
  },
  {
   "cell_type": "code",
   "execution_count": 5,
   "metadata": {},
   "outputs": [],
   "source": [
    "def printpredict(prediction, target):\n",
    "    for i in np.arange(len(prediction)):\n",
    "        print(str(i+1)+\". \"+target[i]+\" predicted as \"+prediction[i])"
   ]
  },
  {
   "cell_type": "code",
   "execution_count": 6,
   "metadata": {},
   "outputs": [],
   "source": [
    "def lang2num(lang):\n",
    "    if lang == \"English\":\n",
    "        return 0\n",
    "    elif lang == \"French\":\n",
    "        return 1\n",
    "    elif lang == \"Japanese\":\n",
    "        return 2\n",
    "    elif lang == \"German\":\n",
    "        return 3\n",
    "    else:\n",
    "        return -1"
   ]
  },
  {
   "cell_type": "code",
   "execution_count": 7,
   "metadata": {},
   "outputs": [],
   "source": [
    "def predictmatrix(prediction, target):\n",
    "    matrix = [[0,0,0,0],[0,0,0,0],[0,0,0,0],[0,0,0,0]]\n",
    "    for i in np.arange(len(prediction)):\n",
    "        a = lang2num(target[i])\n",
    "        b = lang2num(prediction[i])\n",
    "        matrix[a][b] += 1\n",
    "    return matrix"
   ]
  },
  {
   "cell_type": "code",
   "execution_count": 8,
   "metadata": {},
   "outputs": [
    {
     "data": {
      "text/plain": [
       "'\\n\\ntargetjg = np.append([\"Japanese\"]*90,[\"German\"]*90)\\njgNormalMean = np.append(normalJapaneseMean,normalGermanMean)\\n\\nmeanpredict = []\\nmeanscore = 0\\nkf = KFold(n_splits=18)\\nfor train, test in kf.split(jgNormalMean):\\n    xtrain = jgNormalMean[train].reshape(-1, 1)\\n    xtest = jgNormalMean[test].reshape(-1, 1)\\n    ytrain = targetjg[train]\\n    ytest = targetjg[test]\\n    clf = svm.SVC(kernel=\\'linear\\', C=1).fit(xtrain, ytrain)\\n    meanpredict = np.append(meanpredict, clf.predict(xtest))\\n    meanscore = meanscore + clf.score(xtest, ytest)/18.0\\n    print(clf.score(xtest, ytest))\\nmeanscore = meanscore * 100\\nprint(\"Score for normal mean centroid: \" + str(meanscore) + \"%\")\\n\\n'"
      ]
     },
     "execution_count": 8,
     "metadata": {},
     "output_type": "execute_result"
    }
   ],
   "source": [
    "from sklearn.model_selection import train_test_split\n",
    "from sklearn import datasets\n",
    "from sklearn import svm\n",
    "from sklearn.model_selection import KFold\n",
    "from sklearn.datasets import load_digits\n",
    "\n",
    "'''\n",
    "\n",
    "targetjg = np.append([\"Japanese\"]*90,[\"German\"]*90)\n",
    "jgNormalMean = np.append(normalJapaneseMean,normalGermanMean)\n",
    "\n",
    "meanpredict = []\n",
    "meanscore = 0\n",
    "kf = KFold(n_splits=18)\n",
    "for train, test in kf.split(jgNormalMean):\n",
    "    xtrain = jgNormalMean[train].reshape(-1, 1)\n",
    "    xtest = jgNormalMean[test].reshape(-1, 1)\n",
    "    ytrain = targetjg[train]\n",
    "    ytest = targetjg[test]\n",
    "    clf = svm.SVC(kernel='linear', C=1).fit(xtrain, ytrain)\n",
    "    meanpredict = np.append(meanpredict, clf.predict(xtest))\n",
    "    meanscore = meanscore + clf.score(xtest, ytest)/18.0\n",
    "    print(clf.score(xtest, ytest))\n",
    "meanscore = meanscore * 100\n",
    "print(\"Score for normal mean centroid: \" + str(meanscore) + \"%\")\n",
    "\n",
    "'''"
   ]
  },
  {
   "cell_type": "code",
   "execution_count": 9,
   "metadata": {},
   "outputs": [],
   "source": [
    "#print(meanpredict)"
   ]
  },
  {
   "cell_type": "code",
   "execution_count": 31,
   "metadata": {},
   "outputs": [
    {
     "name": "stdout",
     "output_type": "stream",
     "text": [
      "[[25 17 20 ...  5  8  8]\n",
      " [13  4 13 ...  7  7  5]\n",
      " [37 45 28 ...  6  5  6]\n",
      " ...\n",
      " [ 9  8  4 ...  5  6  8]\n",
      " [ 4  3  3 ...  1  2  1]\n",
      " [11 17  6 ...  5  7 10]]\n",
      "340 20\n"
     ]
    },
    {
     "ename": "ValueError",
     "evalue": "Found input variables with inconsistent numbers of samples: [4420, 340]",
     "output_type": "error",
     "traceback": [
      "\u001b[1;31m---------------------------------------------------------------------------\u001b[0m",
      "\u001b[1;31mValueError\u001b[0m                                Traceback (most recent call last)",
      "\u001b[1;32m<ipython-input-31-98ae1320a3a5>\u001b[0m in \u001b[0;36m<module>\u001b[1;34m\u001b[0m\n\u001b[0;32m     12\u001b[0m     \u001b[0mytrain\u001b[0m \u001b[1;33m=\u001b[0m \u001b[0mtarget\u001b[0m\u001b[1;33m[\u001b[0m\u001b[0mtrain\u001b[0m\u001b[1;33m]\u001b[0m\u001b[1;33m\u001b[0m\u001b[1;33m\u001b[0m\u001b[0m\n\u001b[0;32m     13\u001b[0m     \u001b[0mytest\u001b[0m \u001b[1;33m=\u001b[0m \u001b[0mtarget\u001b[0m\u001b[1;33m[\u001b[0m\u001b[0mtest\u001b[0m\u001b[1;33m]\u001b[0m\u001b[1;33m\u001b[0m\u001b[1;33m\u001b[0m\u001b[0m\n\u001b[1;32m---> 14\u001b[1;33m     \u001b[0mclf\u001b[0m \u001b[1;33m=\u001b[0m \u001b[0msvm\u001b[0m\u001b[1;33m.\u001b[0m\u001b[0mSVC\u001b[0m\u001b[1;33m(\u001b[0m\u001b[0mkernel\u001b[0m\u001b[1;33m=\u001b[0m\u001b[1;34m'poly'\u001b[0m\u001b[1;33m,\u001b[0m \u001b[0mC\u001b[0m\u001b[1;33m=\u001b[0m\u001b[1;36m1\u001b[0m\u001b[1;33m)\u001b[0m\u001b[1;33m.\u001b[0m\u001b[0mfit\u001b[0m\u001b[1;33m(\u001b[0m\u001b[0mxtrain\u001b[0m\u001b[1;33m,\u001b[0m \u001b[0mytrain\u001b[0m\u001b[1;33m)\u001b[0m\u001b[1;33m\u001b[0m\u001b[1;33m\u001b[0m\u001b[0m\n\u001b[0m\u001b[0;32m     15\u001b[0m     \u001b[0mmeanpredict\u001b[0m \u001b[1;33m=\u001b[0m \u001b[0mnp\u001b[0m\u001b[1;33m.\u001b[0m\u001b[0mappend\u001b[0m\u001b[1;33m(\u001b[0m\u001b[0mmeanpredict\u001b[0m\u001b[1;33m,\u001b[0m \u001b[0mclf\u001b[0m\u001b[1;33m.\u001b[0m\u001b[0mpredict\u001b[0m\u001b[1;33m(\u001b[0m\u001b[0mxtest\u001b[0m\u001b[1;33m)\u001b[0m\u001b[1;33m)\u001b[0m\u001b[1;33m\u001b[0m\u001b[1;33m\u001b[0m\u001b[0m\n\u001b[0;32m     16\u001b[0m     \u001b[0mmeanscore\u001b[0m \u001b[1;33m=\u001b[0m \u001b[0mmeanscore\u001b[0m \u001b[1;33m+\u001b[0m \u001b[0mclf\u001b[0m\u001b[1;33m.\u001b[0m\u001b[0mscore\u001b[0m\u001b[1;33m(\u001b[0m\u001b[0mxtest\u001b[0m\u001b[1;33m,\u001b[0m \u001b[0mytest\u001b[0m\u001b[1;33m)\u001b[0m\u001b[1;33m/\u001b[0m\u001b[0msplits\u001b[0m\u001b[1;33m\u001b[0m\u001b[1;33m\u001b[0m\u001b[0m\n",
      "\u001b[1;32mc:\\users\\wtleb\\appdata\\local\\programs\\python\\python37\\lib\\site-packages\\sklearn\\svm\\base.py\u001b[0m in \u001b[0;36mfit\u001b[1;34m(self, X, y, sample_weight)\u001b[0m\n\u001b[0;32m    144\u001b[0m         X, y = check_X_y(X, y, dtype=np.float64,\n\u001b[0;32m    145\u001b[0m                          \u001b[0morder\u001b[0m\u001b[1;33m=\u001b[0m\u001b[1;34m'C'\u001b[0m\u001b[1;33m,\u001b[0m \u001b[0maccept_sparse\u001b[0m\u001b[1;33m=\u001b[0m\u001b[1;34m'csr'\u001b[0m\u001b[1;33m,\u001b[0m\u001b[1;33m\u001b[0m\u001b[1;33m\u001b[0m\u001b[0m\n\u001b[1;32m--> 146\u001b[1;33m                          accept_large_sparse=False)\n\u001b[0m\u001b[0;32m    147\u001b[0m         \u001b[0my\u001b[0m \u001b[1;33m=\u001b[0m \u001b[0mself\u001b[0m\u001b[1;33m.\u001b[0m\u001b[0m_validate_targets\u001b[0m\u001b[1;33m(\u001b[0m\u001b[0my\u001b[0m\u001b[1;33m)\u001b[0m\u001b[1;33m\u001b[0m\u001b[1;33m\u001b[0m\u001b[0m\n\u001b[0;32m    148\u001b[0m \u001b[1;33m\u001b[0m\u001b[0m\n",
      "\u001b[1;32mc:\\users\\wtleb\\appdata\\local\\programs\\python\\python37\\lib\\site-packages\\sklearn\\utils\\validation.py\u001b[0m in \u001b[0;36mcheck_X_y\u001b[1;34m(X, y, accept_sparse, accept_large_sparse, dtype, order, copy, force_all_finite, ensure_2d, allow_nd, multi_output, ensure_min_samples, ensure_min_features, y_numeric, warn_on_dtype, estimator)\u001b[0m\n\u001b[0;32m    727\u001b[0m         \u001b[0my\u001b[0m \u001b[1;33m=\u001b[0m \u001b[0my\u001b[0m\u001b[1;33m.\u001b[0m\u001b[0mastype\u001b[0m\u001b[1;33m(\u001b[0m\u001b[0mnp\u001b[0m\u001b[1;33m.\u001b[0m\u001b[0mfloat64\u001b[0m\u001b[1;33m)\u001b[0m\u001b[1;33m\u001b[0m\u001b[1;33m\u001b[0m\u001b[0m\n\u001b[0;32m    728\u001b[0m \u001b[1;33m\u001b[0m\u001b[0m\n\u001b[1;32m--> 729\u001b[1;33m     \u001b[0mcheck_consistent_length\u001b[0m\u001b[1;33m(\u001b[0m\u001b[0mX\u001b[0m\u001b[1;33m,\u001b[0m \u001b[0my\u001b[0m\u001b[1;33m)\u001b[0m\u001b[1;33m\u001b[0m\u001b[1;33m\u001b[0m\u001b[0m\n\u001b[0m\u001b[0;32m    730\u001b[0m \u001b[1;33m\u001b[0m\u001b[0m\n\u001b[0;32m    731\u001b[0m     \u001b[1;32mreturn\u001b[0m \u001b[0mX\u001b[0m\u001b[1;33m,\u001b[0m \u001b[0my\u001b[0m\u001b[1;33m\u001b[0m\u001b[1;33m\u001b[0m\u001b[0m\n",
      "\u001b[1;32mc:\\users\\wtleb\\appdata\\local\\programs\\python\\python37\\lib\\site-packages\\sklearn\\utils\\validation.py\u001b[0m in \u001b[0;36mcheck_consistent_length\u001b[1;34m(*arrays)\u001b[0m\n\u001b[0;32m    203\u001b[0m     \u001b[1;32mif\u001b[0m \u001b[0mlen\u001b[0m\u001b[1;33m(\u001b[0m\u001b[0muniques\u001b[0m\u001b[1;33m)\u001b[0m \u001b[1;33m>\u001b[0m \u001b[1;36m1\u001b[0m\u001b[1;33m:\u001b[0m\u001b[1;33m\u001b[0m\u001b[1;33m\u001b[0m\u001b[0m\n\u001b[0;32m    204\u001b[0m         raise ValueError(\"Found input variables with inconsistent numbers of\"\n\u001b[1;32m--> 205\u001b[1;33m                          \" samples: %r\" % [int(l) for l in lengths])\n\u001b[0m\u001b[0;32m    206\u001b[0m \u001b[1;33m\u001b[0m\u001b[0m\n\u001b[0;32m    207\u001b[0m \u001b[1;33m\u001b[0m\u001b[0m\n",
      "\u001b[1;31mValueError\u001b[0m: Found input variables with inconsistent numbers of samples: [4420, 340]"
     ]
    }
   ],
   "source": [
    "meanpredict = []\n",
    "meanscore = 0\n",
    "\n",
    "print(allPks)\n",
    "\n",
    "splits = 18\n",
    "kf = KFold(n_splits=splits)\n",
    "for train, test in kf.split(allPks):\n",
    "    print(len(train),len(test))\n",
    "    xtrain = allPks[train].reshape(-1, 1)\n",
    "    xtest = allPks[test].reshape(-1, 1)\n",
    "    ytrain = target[train]\n",
    "    ytest = target[test]\n",
    "    clf = svm.SVC(kernel='poly', C=1).fit(xtrain, ytrain)\n",
    "    meanpredict = np.append(meanpredict, clf.predict(xtest))\n",
    "    meanscore = meanscore + clf.score(xtest, ytest)/splits\n",
    "    print(clf.score(xtest, ytest) * 100)\n",
    "meanscore = meanscore * 100\n",
    "print(\"Score for silibant detection: \" + str(meanscore) + \"%\")"
   ]
  },
  {
   "cell_type": "code",
   "execution_count": 26,
   "metadata": {},
   "outputs": [
    {
     "name": "stdout",
     "output_type": "stream",
     "text": [
      "[[0, 659, 92, 149], [155, 0, 173, 572], [82, 744, 0, 74], [46, 786, 68, 0]]\n"
     ]
    },
    {
     "data": {
      "text/plain": [
       "<matplotlib.image.AxesImage at 0x1e9ff64bef0>"
      ]
     },
     "execution_count": 26,
     "metadata": {},
     "output_type": "execute_result"
    },
    {
     "data": {
      "image/png": "[encoded data removed]",
      "text/plain": [
       "<Figure size 288x288 with 1 Axes>"
      ]
     },
     "metadata": {
      "needs_background": "light"
     },
     "output_type": "display_data"
    }
   ],
   "source": [
    "#printpredict(meanpredict,target)\n",
    "print(predictmatrix(meanpredict,longtarget))\n",
    "plt.matshow(predictmatrix(meanpredict,longtarget))"
   ]
  },
  {
   "cell_type": "code",
   "execution_count": null,
   "metadata": {},
   "outputs": [],
   "source": []
  },
  {
   "cell_type": "code",
   "execution_count": null,
   "metadata": {},
   "outputs": [],
   "source": []
  },
  {
   "cell_type": "code",
   "execution_count": null,
   "metadata": {},
   "outputs": [],
   "source": []
  }
 ],
 "metadata": {
  "kernelspec": {
   "display_name": "Python 3",
   "language": "python",
   "name": "python3"
  },
  "language_info": {
   "codemirror_mode": {
    "name": "ipython",
    "version": 3
   },
   "file_extension": ".py",
   "mimetype": "text/x-python",
   "name": "python",
   "nbconvert_exporter": "python",
   "pygments_lexer": "ipython3",
   "version": "3.7.3"
  }
 },
 "nbformat": 4,
 "nbformat_minor": 2
}
